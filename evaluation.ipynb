{
 "cells": [
  {
   "cell_type": "code",
   "execution_count": 47,
   "metadata": {},
   "outputs": [],
   "source": [
    "import pandas as pd\n",
    "import numpy as np\n",
    "from sklearn.feature_extraction.text import TfidfVectorizer\n",
    "from scipy.sparse import csr_matrix, hstack\n",
    "from sklearn.preprocessing import StandardScaler\n",
    "from sklearn.metrics.pairwise import cosine_similarity\n",
    "from sklearn.metrics import mean_absolute_error\n",
    "from sklearn.decomposition import TruncatedSVD\n",
    "from tabulate import tabulate\n",
    "import matplotlib.pyplot as plt"
   ]
  },
  {
   "cell_type": "code",
   "execution_count": 48,
   "metadata": {},
   "outputs": [],
   "source": [
    "# Set random seed for reproducibility\n",
    "random_seed = 42\n",
    "np.random.seed(random_seed)"
   ]
  },
  {
   "cell_type": "code",
   "execution_count": 49,
   "metadata": {},
   "outputs": [],
   "source": [
    "# Load the dataset\n",
    "menu_data = pd.read_csv('updated_dataset.csv')"
   ]
  },
  {
   "cell_type": "code",
   "execution_count": 50,
   "metadata": {},
   "outputs": [],
   "source": [
    "# Preprocessing: Handle missing values\n",
    "menu_data['description'] = menu_data['description'].fillna('')"
   ]
  },
  {
   "cell_type": "code",
   "execution_count": 51,
   "metadata": {},
   "outputs": [],
   "source": [
    "# Combine textual features into one column for TF-IDF\n",
    "menu_data['combined_text'] = menu_data['category_x'] + ' ' + menu_data['name_x'] + ' ' + menu_data['description']"
   ]
  },
  {
   "cell_type": "code",
   "execution_count": 52,
   "metadata": {},
   "outputs": [],
   "source": [
    "# Initialize TF-IDF Vectorizer with bi-grams\n",
    "tfidf = TfidfVectorizer(stop_words='english', ngram_range=(1, 3))\n",
    "tfidf_matrix = tfidf.fit_transform(menu_data['combined_text'])"
   ]
  },
  {
   "cell_type": "code",
   "execution_count": 53,
   "metadata": {},
   "outputs": [],
   "source": [
    "# Adding weight to the description feature\n",
    "menu_data['description_weighted'] = menu_data['description'] * 3\n",
    "menu_data['combined_text'] = menu_data['category_x'] + ' ' + menu_data['name_x'] + ' ' + menu_data['description_weighted']"
   ]
  },
  {
   "cell_type": "code",
   "execution_count": 54,
   "metadata": {},
   "outputs": [],
   "source": [
    "# Keep a copy of the original ratings\n",
    "menu_data['original_rating'] = menu_data['Rating']\n",
    "menu_data['original_price'] = menu_data['price']"
   ]
  },
  {
   "cell_type": "code",
   "execution_count": 55,
   "metadata": {},
   "outputs": [],
   "source": [
    "# Normalize numerical features (rating and price)\n",
    "scaler = StandardScaler()\n",
    "menu_data[['Rating', 'price']] = scaler.fit_transform(menu_data[['Rating', 'price']])"
   ]
  },
  {
   "cell_type": "code",
   "execution_count": 56,
   "metadata": {},
   "outputs": [],
   "source": [
    "#Combine TF-IDF matrix with normalized numerical features\n",
    "numerical_features = menu_data[['Rating', 'price']]\n",
    "extended_numerical_features = csr_matrix(numerical_features.values)"
   ]
  },
  {
   "cell_type": "code",
   "execution_count": 57,
   "metadata": {},
   "outputs": [],
   "source": [
    "# Combine sparse matrices directly\n",
    "combined_features = hstack([tfidf_matrix, extended_numerical_features])"
   ]
  },
  {
   "cell_type": "code",
   "execution_count": 58,
   "metadata": {},
   "outputs": [],
   "source": [
    "# Apply TruncatedSVD for dimensionality reduction\n",
    "svd = TruncatedSVD(n_components=150, random_state=random_seed)\n",
    "reduced_features = svd.fit_transform(combined_features)"
   ]
  },
  {
   "cell_type": "code",
   "execution_count": 59,
   "metadata": {},
   "outputs": [],
   "source": [
    "def cosine_similarity_manual(matrix):\n",
    "    dot_product = np.dot(matrix, matrix.T)\n",
    "    norm = np.linalg.norm(matrix, axis=1)\n",
    "    similarity = dot_product / (norm[:, None] * norm[None, :])\n",
    "    return similarity\n",
    "\n",
    "# Calculate the cosine similarity matrix\n",
    "cosine_sim = cosine_similarity_manual(reduced_features)"
   ]
  },
  {
   "cell_type": "code",
   "execution_count": 60,
   "metadata": {},
   "outputs": [],
   "source": [
    "def recommend_menu(menu_name, menu_data, cosine_sim, top_n=5):\n",
    "    if menu_name not in menu_data['name_x'].values:\n",
    "        raise ValueError(f\"{menu_name} not found in menu.\")\n",
    "\n",
    "    # Get the index of the input menu item\n",
    "    input_idx = menu_data[menu_data['name_x'] == menu_name].index[0]\n",
    "    \n",
    "    # Get similarity scores for the input item\n",
    "    sim_scores = list(enumerate(cosine_sim[input_idx]))\n",
    "    \n",
    "    # Sort by similarity score\n",
    "    sim_scores = sorted(sim_scores, key=lambda x: x[1], reverse=True)\n",
    "    \n",
    "    # Get the top n most similar items (including the input menu item itself)\n",
    "    top_items = sim_scores[:top_n]\n",
    "    \n",
    "    recommended_menus = [{\n",
    "        'Menu Item': menu_data.loc[i, 'name_x'],\n",
    "        'Category': menu_data.loc[i, 'category_x'],\n",
    "        'Rating': menu_data.loc[i, 'original_rating'],\n",
    "        'Description': menu_data.loc[i, 'description'],\n",
    "        'Price': menu_data.loc[i, 'original_price'],\n",
    "        'Booth Number': menu_data.loc[i, 'restaurant_id'],\n",
    "        'Booth Name': menu_data.loc[i, 'name_y'],\n",
    "        'Similarity Score': score\n",
    "    } for i, score in top_items]\n",
    "\n",
    "    return recommended_menus"
   ]
  },
  {
   "cell_type": "code",
   "execution_count": 61,
   "metadata": {},
   "outputs": [],
   "source": [
    "# Function to predict rating for a menu item\n",
    "def predict_rating(menu_name, menu_data, cosine_sim, top_n=5):\n",
    "    if menu_name not in menu_data['name_x'].values:\n",
    "        raise ValueError(f\"{menu_name} not found in menu.\")\n",
    "\n",
    "    input_idx = menu_data[menu_data['name_x'] == menu_name].index[0]\n",
    "    sim_scores = list(enumerate(cosine_sim[input_idx]))\n",
    "    sim_scores = sorted(sim_scores, key=lambda x: x[1], reverse=True)\n",
    "    top_items = sim_scores[1:top_n+1]\n",
    "\n",
    "    total_rating = 0\n",
    "    total_similarity = 0\n",
    "\n",
    "    for i, score in top_items:\n",
    "        total_rating += menu_data.loc[i, 'original_rating'] * score\n",
    "        total_similarity += score\n",
    "\n",
    "    if total_similarity > 0:\n",
    "        return total_rating / total_similarity\n",
    "    else:\n",
    "        return menu_data['original_rating'].mean()  # fallback to the mean rating if no similar items\n"
   ]
  },
  {
   "cell_type": "code",
   "execution_count": 62,
   "metadata": {},
   "outputs": [],
   "source": [
    "# Function to evaluate Precision and Recall\n",
    "def evaluate_precision_recall(menu_names, ground_truth, menu_data, cosine_sim, top_n=5):\n",
    "    precision_scores = []\n",
    "    recall_scores = []\n",
    "\n",
    "    for menu_name in menu_names:\n",
    "        # Get recommended items\n",
    "        recommended_items = recommend_menu(menu_name, menu_data, cosine_sim, top_n)\n",
    "\n",
    "        # Get ground truth items\n",
    "        relevant_items = ground_truth.get(menu_name, [])\n",
    "\n",
    "        # Calculate Precision and Recall\n",
    "        recommended_set = set(item['Menu Item'] for item in recommended_items)\n",
    "        relevant_set = set(relevant_items)\n",
    "\n",
    "        intersection = recommended_set.intersection(relevant_set)\n",
    "\n",
    "        precision = len(intersection) / len(recommended_set) if recommended_set else 0\n",
    "        recall = len(intersection) / len(relevant_set) if relevant_set else 0\n",
    "\n",
    "        precision_scores.append(precision)\n",
    "        recall_scores.append(recall)\n",
    "\n",
    "    mean_precision = np.mean(precision_scores)\n",
    "    mean_recall = np.mean(recall_scores)\n",
    "\n",
    "    return mean_precision, mean_recall"
   ]
  },
  {
   "cell_type": "code",
   "execution_count": 63,
   "metadata": {},
   "outputs": [],
   "source": [
    "\n",
    "# Function to evaluate Mean Absolute Error (MAE)\n",
    "def evaluate_mae(menu_names, menu_data, cosine_sim, top_n=5):\n",
    "    mae_scores = []\n",
    "\n",
    "    for menu_name in menu_names:\n",
    "        # Get recommended items with actual ratings and similarities\n",
    "        recommended_items = recommend_menu(menu_name, menu_data, cosine_sim, top_n)\n",
    "\n",
    "        # Calculate MAE for top recommended items\n",
    "        actual_ratings = []\n",
    "        predicted_ratings = []\n",
    "\n",
    "        for item in recommended_items:\n",
    "            item_name = item['Menu Item']\n",
    "            actual_rating = item['Rating']\n",
    "            predicted_rating = predict_rating(item_name, menu_data, cosine_sim, top_n)\n",
    "\n",
    "            actual_ratings.append(actual_rating)\n",
    "            predicted_ratings.append(predicted_rating)\n",
    "\n",
    "        if actual_ratings and predicted_ratings:\n",
    "            mae = mean_absolute_error(actual_ratings, predicted_ratings)\n",
    "            mae_scores.append(mae)\n",
    "\n",
    "    mean_mae = np.mean(mae_scores)\n",
    "\n",
    "    return mean_mae"
   ]
  },
  {
   "cell_type": "code",
   "execution_count": 64,
   "metadata": {},
   "outputs": [],
   "source": [
    "# Example usage:\n",
    "menu_names = ['Banana Smoothie', 'Beef Lettuce Wrap', 'Adult Mac N Cheese','Mushroom and Pepper Jack Toastie', 'Scallop with Broccoli']\n",
    "ground_truth = {\n",
    "    'Banana Smoothie': ['Banana Smoothie', 'Coconut Milk Drink', 'Coconut Sticky Rice', 'Livingston', 'Young Coconut Drink'],\n",
    "    'Beef Lettuce Wrap': ['Beef Lettuce Wrap', 'Lort', 'Gulab-e-Jamun', 'Bo La Lot', 'Philly Beef and Cheese Sub'],\n",
    "    'Adult Mac N Cheese': ['Adult Mac N Cheese', 'Homestyle Alfredo', 'Quattro Formaggi Pasta', 'The Distillery Burger', 'Uplands Cheese Puff Salad'],\n",
    "    'Mushroom and Pepper Jack Toastie': ['Mushroom and Pepper Jack Toastie', 'The Bleu Bayou Burger', 'Hotwurst', 'Brown Bag Special', 'Wood-Grilled Sweet Onion Quesadilla'],\n",
    "    'Scallop with Broccoli': ['Scallop with Broccoli', 'Oyster Sauce With Broccoli and Mushroom', 'Broccoli with Bean Curd', 'Chicken with Broccoli and Snow Peas', 'Yu-shan Vegetable']\n",
    "}"
   ]
  },
  {
   "cell_type": "code",
   "execution_count": 65,
   "metadata": {},
   "outputs": [
    {
     "name": "stdout",
     "output_type": "stream",
     "text": [
      "Mean Precision: 0.8800, Mean Recall: 0.8800\n"
     ]
    }
   ],
   "source": [
    "# Evaluate Precision and Recall\n",
    "precision, recall = evaluate_precision_recall(menu_names, ground_truth, menu_data, cosine_sim)\n",
    "print(f\"Mean Precision: {precision:.4f}, Mean Recall: {recall:.4f}\")"
   ]
  },
  {
   "cell_type": "code",
   "execution_count": 66,
   "metadata": {},
   "outputs": [
    {
     "name": "stdout",
     "output_type": "stream",
     "text": [
      "Mean MAE: 0.2878\n"
     ]
    }
   ],
   "source": [
    "# Evaluate MAE\n",
    "mae = evaluate_mae(menu_names, menu_data, cosine_sim)\n",
    "print(f\"Mean MAE: {mae:.4f}\")"
   ]
  },
  {
   "cell_type": "code",
   "execution_count": 67,
   "metadata": {},
   "outputs": [
    {
     "data": {
      "text/plain": [
       "<Figure size 1000x600 with 0 Axes>"
      ]
     },
     "execution_count": 67,
     "metadata": {},
     "output_type": "execute_result"
    },
    {
     "data": {
      "text/plain": [
       "<Figure size 1000x600 with 0 Axes>"
      ]
     },
     "metadata": {},
     "output_type": "display_data"
    }
   ],
   "source": [
    "# Plotting the results\n",
    "plt.figure(figsize=(10, 6))"
   ]
  },
  {
   "cell_type": "code",
   "execution_count": 68,
   "metadata": {},
   "outputs": [
    {
     "data": {
      "text/plain": [
       "[<matplotlib.lines.Line2D at 0x1baad25c750>]"
      ]
     },
     "execution_count": 68,
     "metadata": {},
     "output_type": "execute_result"
    },
    {
     "data": {
      "image/png": "[encoded data removed]",
      "text/plain": [
       "<Figure size 640x480 with 1 Axes>"
      ]
     },
     "metadata": {},
     "output_type": "display_data"
    }
   ],
   "source": [
    "# Plot Precision and Recall\n",
    "plt.plot([precision], [recall], marker='o', markersize=8, color='blue', label='Precision-Recall')"
   ]
  },
  {
   "cell_type": "code",
   "execution_count": 69,
   "metadata": {},
   "outputs": [
    {
     "data": {
      "text/plain": [
       "<matplotlib.collections.PathCollection at 0x1baacb5e150>"
      ]
     },
     "execution_count": 69,
     "metadata": {},
     "output_type": "execute_result"
    },
    {
     "data": {
      "image/png": "[encoded data removed]",
      "text/plain": [
       "<Figure size 640x480 with 1 Axes>"
      ]
     },
     "metadata": {},
     "output_type": "display_data"
    }
   ],
   "source": [
    "# Plot MAE\n",
    "plt.scatter([mae], [0], marker='o', s=200, color='red', label='Mean Absolute Error')\n"
   ]
  },
  {
   "cell_type": "code",
   "execution_count": 70,
   "metadata": {},
   "outputs": [
    {
     "name": "stderr",
     "output_type": "stream",
     "text": [
      "No artists with labels found to put in legend.  Note that artists whose label start with an underscore are ignored when legend() is called with no argument.\n"
     ]
    },
    {
     "data": {
      "image/png": "[encoded data removed]",
      "text/plain": [
       "<Figure size 640x480 with 1 Axes>"
      ]
     },
     "metadata": {},
     "output_type": "display_data"
    }
   ],
   "source": [
    "plt.title('Evaluation Metrics')\n",
    "plt.xlabel('Metric Value')\n",
    "plt.xlim(0, 1)\n",
    "plt.xticks(np.arange(0, 1.1, 0.1))\n",
    "plt.yticks([])\n",
    "plt.legend()\n",
    "plt.grid(True)\n",
    "plt.tight_layout()\n",
    "plt.show()"
   ]
  }
 ],
 "metadata": {
  "kernelspec": {
   "display_name": "Python 3",
   "language": "python",
   "name": "python3"
  },
  "language_info": {
   "codemirror_mode": {
    "name": "ipython",
    "version": 3
   },
   "file_extension": ".py",
   "mimetype": "text/x-python",
   "name": "python",
   "nbconvert_exporter": "python",
   "pygments_lexer": "ipython3",
   "version": "3.11.7"
  }
 },
 "nbformat": 4,
 "nbformat_minor": 2
}
