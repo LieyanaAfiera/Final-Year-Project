{
 "cells": [
  {
   "cell_type": "code",
   "execution_count": 16,
   "metadata": {},
   "outputs": [],
   "source": [
    "import pandas as pd\n",
    "import numpy as np\n",
    "from sklearn.feature_extraction.text import TfidfVectorizer\n",
    "from scipy.sparse import csr_matrix, hstack\n",
    "from sklearn.preprocessing import StandardScaler\n",
    "from sklearn.decomposition import TruncatedSVD"
   ]
  },
  {
   "cell_type": "code",
   "execution_count": 17,
   "metadata": {},
   "outputs": [],
   "source": [
    "# Load the dataset\n",
    "menu_data = pd.read_csv('updated_dataset.csv')"
   ]
  },
  {
   "cell_type": "code",
   "execution_count": 18,
   "metadata": {},
   "outputs": [
    {
     "name": "stdout",
     "output_type": "stream",
     "text": [
      "<class 'pandas.core.frame.DataFrame'>\n",
      "RangeIndex: 5474 entries, 0 to 5473\n",
      "Data columns (total 9 columns):\n",
      " #   Column         Non-Null Count  Dtype  \n",
      "---  ------         --------------  -----  \n",
      " 0   restaurant_id  5474 non-null   int64  \n",
      " 1   category_x     5474 non-null   object \n",
      " 2   name_x         5474 non-null   object \n",
      " 3   description    5474 non-null   object \n",
      " 4   price          5474 non-null   float64\n",
      " 5   Rating         5474 non-null   int64  \n",
      " 6   name_y         5474 non-null   object \n",
      " 7   category_y     5474 non-null   object \n",
      " 8   price_range    5474 non-null   object \n",
      "dtypes: float64(1), int64(2), object(6)\n",
      "memory usage: 385.0+ KB\n"
     ]
    },
    {
     "data": {
      "text/html": [
       "<div>\n",
       "<style scoped>\n",
       "    .dataframe tbody tr th:only-of-type {\n",
       "        vertical-align: middle;\n",
       "    }\n",
       "\n",
       "    .dataframe tbody tr th {\n",
       "        vertical-align: top;\n",
       "    }\n",
       "\n",
       "    .dataframe thead th {\n",
       "        text-align: right;\n",
       "    }\n",
       "</style>\n",
       "<table border=\"1\" class=\"dataframe\">\n",
       "  <thead>\n",
       "    <tr style=\"text-align: right;\">\n",
       "      <th></th>\n",
       "      <th>restaurant_id</th>\n",
       "      <th>category_x</th>\n",
       "      <th>name_x</th>\n",
       "      <th>description</th>\n",
       "      <th>price</th>\n",
       "      <th>Rating</th>\n",
       "      <th>name_y</th>\n",
       "      <th>category_y</th>\n",
       "      <th>price_range</th>\n",
       "    </tr>\n",
       "  </thead>\n",
       "  <tbody>\n",
       "    <tr>\n",
       "      <th>0</th>\n",
       "      <td>7942</td>\n",
       "      <td>Appetizer</td>\n",
       "      <td>Thai Fried Chicken Wings</td>\n",
       "      <td>Marinated and deep fried wings served with swe...</td>\n",
       "      <td>10.95</td>\n",
       "      <td>5</td>\n",
       "      <td>Thai Greenwood Restaurant</td>\n",
       "      <td>Thai, Asian Fusion, Noodles</td>\n",
       "      <td>medium</td>\n",
       "    </tr>\n",
       "    <tr>\n",
       "      <th>1</th>\n",
       "      <td>11244</td>\n",
       "      <td>Appetizers</td>\n",
       "      <td>Mai Thai Spring</td>\n",
       "      <td>Crispy rolls stuffed with marinated shrimp, se...</td>\n",
       "      <td>11.95</td>\n",
       "      <td>5</td>\n",
       "      <td>Mai Thai Portland</td>\n",
       "      <td>Thai, Asian, Noodles</td>\n",
       "      <td>medium</td>\n",
       "    </tr>\n",
       "    <tr>\n",
       "      <th>2</th>\n",
       "      <td>2978</td>\n",
       "      <td>Appetizers</td>\n",
       "      <td>Kaki Fry</td>\n",
       "      <td>Fried oysters. Served with mayo and vegetable ...</td>\n",
       "      <td>6.75</td>\n",
       "      <td>5</td>\n",
       "      <td>Ramen Station</td>\n",
       "      <td>Japanese, Ramen</td>\n",
       "      <td>low</td>\n",
       "    </tr>\n",
       "    <tr>\n",
       "      <th>3</th>\n",
       "      <td>8353</td>\n",
       "      <td>Appetizers</td>\n",
       "      <td>Botana Mixta</td>\n",
       "      <td>Combination of guacamole, quesadillas, nacho, ...</td>\n",
       "      <td>18.00</td>\n",
       "      <td>5</td>\n",
       "      <td>Casa Guerrero</td>\n",
       "      <td>Seafood, Mexican, Vegetarian Friendly</td>\n",
       "      <td>medium</td>\n",
       "    </tr>\n",
       "    <tr>\n",
       "      <th>4</th>\n",
       "      <td>1600</td>\n",
       "      <td>Appetizers</td>\n",
       "      <td>Homemade Fries</td>\n",
       "      <td>Served with owl dipping sauce.</td>\n",
       "      <td>3.75</td>\n",
       "      <td>5</td>\n",
       "      <td>The Green Owl</td>\n",
       "      <td>American, Traditional American, Pub, Bar Food,...</td>\n",
       "      <td>low</td>\n",
       "    </tr>\n",
       "    <tr>\n",
       "      <th>5</th>\n",
       "      <td>1636</td>\n",
       "      <td>Appetizers</td>\n",
       "      <td>Bacon Mac Waffle Fry Tray</td>\n",
       "      <td>A full order of our Waffle Fries topped with h...</td>\n",
       "      <td>11.99</td>\n",
       "      <td>4</td>\n",
       "      <td>Brat House Grill</td>\n",
       "      <td>American, Burgers, Desserts, Exclusive to Eats</td>\n",
       "      <td>medium</td>\n",
       "    </tr>\n",
       "    <tr>\n",
       "      <th>6</th>\n",
       "      <td>10384</td>\n",
       "      <td>Apsara Noodle Dishes</td>\n",
       "      <td>Stir Fried Cantonese Noodles</td>\n",
       "      <td>Choice of wind noodle or lo mein noodle. Prepa...</td>\n",
       "      <td>10.50</td>\n",
       "      <td>5</td>\n",
       "      <td>Apsara Palace Restaurant</td>\n",
       "      <td>Asian Fusion, Steak, Salads</td>\n",
       "      <td>medium</td>\n",
       "    </tr>\n",
       "    <tr>\n",
       "      <th>7</th>\n",
       "      <td>12796</td>\n",
       "      <td>Appetizers</td>\n",
       "      <td>Steam Shrimp Dumbling</td>\n",
       "      <td>Serve w/ soy sauce.</td>\n",
       "      <td>12.00</td>\n",
       "      <td>5</td>\n",
       "      <td>Saigon Rendezvous</td>\n",
       "      <td>Vietnamese, Thai, Family Friendly</td>\n",
       "      <td>medium</td>\n",
       "    </tr>\n",
       "    <tr>\n",
       "      <th>8</th>\n",
       "      <td>10719</td>\n",
       "      <td>Appetizers</td>\n",
       "      <td>Bacon cheese bread sticks</td>\n",
       "      <td>Bacon and mozzarella cheese</td>\n",
       "      <td>7.99</td>\n",
       "      <td>5</td>\n",
       "      <td>Crown Pizza</td>\n",
       "      <td>Vegetarian Friendly, Vegan Friendly, Mediterra...</td>\n",
       "      <td>low</td>\n",
       "    </tr>\n",
       "    <tr>\n",
       "      <th>9</th>\n",
       "      <td>12864</td>\n",
       "      <td>Appetizers</td>\n",
       "      <td>Fresh Tofu Spring Rolls-Goi Cuon Dau Hu</td>\n",
       "      <td>Carrot, daikon, lettuce, basil, and herbs serv...</td>\n",
       "      <td>5.00</td>\n",
       "      <td>5</td>\n",
       "      <td>Meekong Bar</td>\n",
       "      <td>Asian Fusion, South East Asian, Vietnamese</td>\n",
       "      <td>low</td>\n",
       "    </tr>\n",
       "  </tbody>\n",
       "</table>\n",
       "</div>"
      ],
      "text/plain": [
       "   restaurant_id            category_x  \\\n",
       "0           7942             Appetizer   \n",
       "1          11244            Appetizers   \n",
       "2           2978            Appetizers   \n",
       "3           8353            Appetizers   \n",
       "4           1600            Appetizers   \n",
       "5           1636            Appetizers   \n",
       "6          10384  Apsara Noodle Dishes   \n",
       "7          12796            Appetizers   \n",
       "8          10719            Appetizers   \n",
       "9          12864            Appetizers   \n",
       "\n",
       "                                    name_x  \\\n",
       "0                 Thai Fried Chicken Wings   \n",
       "1                          Mai Thai Spring   \n",
       "2                                 Kaki Fry   \n",
       "3                             Botana Mixta   \n",
       "4                           Homemade Fries   \n",
       "5                Bacon Mac Waffle Fry Tray   \n",
       "6             Stir Fried Cantonese Noodles   \n",
       "7                    Steam Shrimp Dumbling   \n",
       "8                Bacon cheese bread sticks   \n",
       "9  Fresh Tofu Spring Rolls-Goi Cuon Dau Hu   \n",
       "\n",
       "                                         description  price  Rating  \\\n",
       "0  Marinated and deep fried wings served with swe...  10.95       5   \n",
       "1  Crispy rolls stuffed with marinated shrimp, se...  11.95       5   \n",
       "2  Fried oysters. Served with mayo and vegetable ...   6.75       5   \n",
       "3  Combination of guacamole, quesadillas, nacho, ...  18.00       5   \n",
       "4                     Served with owl dipping sauce.   3.75       5   \n",
       "5  A full order of our Waffle Fries topped with h...  11.99       4   \n",
       "6  Choice of wind noodle or lo mein noodle. Prepa...  10.50       5   \n",
       "7                                Serve w/ soy sauce.  12.00       5   \n",
       "8                        Bacon and mozzarella cheese   7.99       5   \n",
       "9  Carrot, daikon, lettuce, basil, and herbs serv...   5.00       5   \n",
       "\n",
       "                      name_y  \\\n",
       "0  Thai Greenwood Restaurant   \n",
       "1          Mai Thai Portland   \n",
       "2              Ramen Station   \n",
       "3              Casa Guerrero   \n",
       "4              The Green Owl   \n",
       "5           Brat House Grill   \n",
       "6   Apsara Palace Restaurant   \n",
       "7          Saigon Rendezvous   \n",
       "8                Crown Pizza   \n",
       "9                Meekong Bar   \n",
       "\n",
       "                                          category_y price_range  \n",
       "0                        Thai, Asian Fusion, Noodles      medium  \n",
       "1                               Thai, Asian, Noodles      medium  \n",
       "2                                    Japanese, Ramen         low  \n",
       "3              Seafood, Mexican, Vegetarian Friendly      medium  \n",
       "4  American, Traditional American, Pub, Bar Food,...         low  \n",
       "5     American, Burgers, Desserts, Exclusive to Eats      medium  \n",
       "6                        Asian Fusion, Steak, Salads      medium  \n",
       "7                  Vietnamese, Thai, Family Friendly      medium  \n",
       "8  Vegetarian Friendly, Vegan Friendly, Mediterra...         low  \n",
       "9         Asian Fusion, South East Asian, Vietnamese         low  "
      ]
     },
     "execution_count": 18,
     "metadata": {},
     "output_type": "execute_result"
    }
   ],
   "source": [
    "menu_data.info()\n",
    "menu_data.head(10)"
   ]
  },
  {
   "cell_type": "code",
   "execution_count": 19,
   "metadata": {},
   "outputs": [],
   "source": [
    "# Preprocessing: Handle missing values\n",
    "menu_data['description'] = menu_data['description'].fillna('')"
   ]
  },
  {
   "cell_type": "code",
   "execution_count": 20,
   "metadata": {},
   "outputs": [],
   "source": [
    "# Combine textual features into one column for TF-IDF\n",
    "menu_data['combined_text'] = menu_data['category_x'] + ' ' + menu_data['name_x'] + ' ' + menu_data['description']"
   ]
  },
  {
   "cell_type": "code",
   "execution_count": 21,
   "metadata": {},
   "outputs": [],
   "source": [
    "# Initialize TF-IDF Vectorizer with bi-grams\n",
    "tfidf = TfidfVectorizer(stop_words='english', ngram_range=(1, 3))\n",
    "tfidf_matrix = tfidf.fit_transform(menu_data['combined_text'])"
   ]
  },
  {
   "cell_type": "code",
   "execution_count": 22,
   "metadata": {},
   "outputs": [],
   "source": [
    "# Adding weight to the description feature\n",
    "menu_data['description_weighted'] = menu_data['description'] * 3\n",
    "menu_data['combined_text'] = menu_data['category_x'] + ' ' + menu_data['name_x'] + ' ' + menu_data['description_weighted']"
   ]
  },
  {
   "cell_type": "code",
   "execution_count": 23,
   "metadata": {},
   "outputs": [],
   "source": [
    "# Keep a copy of the original ratings\n",
    "menu_data['original_rating'] = menu_data['Rating']\n",
    "menu_data['original_price'] = menu_data['price']"
   ]
  },
  {
   "cell_type": "code",
   "execution_count": 24,
   "metadata": {},
   "outputs": [],
   "source": [
    "# Normalize numerical features (rating and price)\n",
    "scaler = StandardScaler()\n",
    "menu_data[['Rating', 'price']] = scaler.fit_transform(menu_data[['Rating', 'price']])"
   ]
  },
  {
   "cell_type": "code",
   "execution_count": 25,
   "metadata": {},
   "outputs": [],
   "source": [
    "#Combine TF-IDF matrix with normalized numerical features\n",
    "numerical_features = menu_data[['Rating', 'price']]\n",
    "extended_numerical_features = csr_matrix(numerical_features.values)"
   ]
  },
  {
   "cell_type": "code",
   "execution_count": 26,
   "metadata": {},
   "outputs": [],
   "source": [
    "# Combine sparse matrices directly\n",
    "combined_features = hstack([tfidf_matrix, extended_numerical_features])"
   ]
  },
  {
   "cell_type": "code",
   "execution_count": 27,
   "metadata": {},
   "outputs": [],
   "source": [
    "# Apply TruncatedSVD for dimensionality reduction\n",
    "svd = TruncatedSVD(n_components=150)  # Adjust n_components based on the trade-off between memory and accuracy\n",
    "reduced_features = svd.fit_transform(combined_features)"
   ]
  },
  {
   "cell_type": "code",
   "execution_count": 28,
   "metadata": {},
   "outputs": [],
   "source": [
    "def cosine_similarity_manual(matrix):\n",
    "    dot_product = np.dot(matrix, matrix.T)\n",
    "    norm = np.linalg.norm(matrix, axis=1)\n",
    "    similarity = dot_product / (norm[:, None] * norm[None, :])\n",
    "    return similarity\n",
    "\n",
    "# Calculate the cosine similarity matrix\n",
    "cosine_sim = cosine_similarity_manual(reduced_features)"
   ]
  },
  {
   "cell_type": "code",
   "execution_count": 29,
   "metadata": {},
   "outputs": [],
   "source": [
    "def recommend_menu(menu_name, menu_data, cosine_sim, top_n=5):\n",
    "    if menu_name not in menu_data['name_x'].values:\n",
    "        raise ValueError(f\"{menu_name} not found in menu.\")\n",
    "\n",
    "    # Get the index of the input menu item\n",
    "    input_idx = menu_data[menu_data['name_x'] == menu_name].index[0]\n",
    "    \n",
    "    # Get similarity scores for the input item\n",
    "    sim_scores = list(enumerate(cosine_sim[input_idx]))\n",
    "    \n",
    "    # Sort by similarity score\n",
    "    sim_scores = sorted(sim_scores, key=lambda x: x[1], reverse=True)\n",
    "    \n",
    "    # Get the top n most similar items (including the input menu item itself)\n",
    "    top_items = sim_scores[:top_n]\n",
    "    \n",
    "    recommended_menus = [{\n",
    "        'Menu Item': menu_data.loc[i, 'name_x'],\n",
    "        'Category': menu_data.loc[i, 'category_x'],\n",
    "        'Rating': menu_data.loc[i, 'original_rating'],\n",
    "        'Description': menu_data.loc[i, 'description'],\n",
    "        'Price': menu_data.loc[i, 'original_price'],\n",
    "        'Booth Number': menu_data.loc[i, 'restaurant_id'],\n",
    "        'Booth Name': menu_data.loc[i, 'name_y'],\n",
    "        'Similarity Score': score\n",
    "    } for i, score in top_items]\n",
    "\n",
    "    return recommended_menus"
   ]
  },
  {
   "cell_type": "code",
   "execution_count": 30,
   "metadata": {},
   "outputs": [
    {
     "name": "stdout",
     "output_type": "stream",
     "text": [
      "Top 5 recommendations for 'Scallop with Broccoli':\n",
      "                              Menu Item        Category  Rating                        Description  Price  Booth Number                         Booth Name  Similarity Score\n",
      "                  Scallop with Broccoli Lunch - Seafood       5          Served with white rice. .   7.75          4074           Golden Chopsticks Buffet          1.000000\n",
      "Oyster Sauce With Broccoli and Mushroom   Veggie Dishes       5            Served with white rice.   8.25          3404 Cantonese House Chinese Restaurant          0.939408\n",
      "                Broccoli with Bean Curd      Vegetables       5            Served with white rice.   6.50          6683                         China Star          0.930360\n",
      "                      Yu-shan Vegetable   Veggie Dishes       5       Hot. Served with white rice.   8.50          3404 Cantonese House Chinese Restaurant          0.928145\n",
      "    Chicken with Broccoli and Snow Peas         Poultry       5 With white sauce. With white rice.   6.35          5313                        Great China          0.927244\n"
     ]
    }
   ],
   "source": [
    "# Example usage:\n",
    "menu_name = \"Scallop with Broccoli\"\n",
    "top_recommendations = recommend_menu(menu_name, menu_data, cosine_sim)\n",
    "\n",
    "# Convert the recommendations to a DataFrame\n",
    "recommendations_df = pd.DataFrame(top_recommendations)\n",
    "\n",
    "print(f\"Top {len(top_recommendations)} recommendations for '{menu_name}':\")\n",
    "print(recommendations_df.to_string(index=False))"
   ]
  },
  {
   "cell_type": "code",
   "execution_count": 31,
   "metadata": {},
   "outputs": [],
   "source": [
    "#from sklearn.metrics import precision_score, recall_score, mean_absolute_error"
   ]
  },
  {
   "cell_type": "code",
   "execution_count": 32,
   "metadata": {},
   "outputs": [
    {
     "data": {
      "text/plain": [
       "\"# Function to evaluate the model\\ndef evaluate_model(actual_ratings, predicted_ratings):\\n    # Convert predicted ratings to integer values for comparison\\n    predicted_ratings = np.round(predicted_ratings).astype(int)\\n    \\n    # Calculate precision and recall for top recommendations\\n    precision = precision_score(actual_ratings, predicted_ratings, average='micro')\\n    recall = recall_score(actual_ratings, predicted_ratings, average='micro')\\n    \\n    # Calculate Mean Absolute Error (MAE) for rating predictions\\n    mae = mean_absolute_error(actual_ratings, predicted_ratings)\\n    \\n    return precision, recall, mae\""
      ]
     },
     "execution_count": 32,
     "metadata": {},
     "output_type": "execute_result"
    }
   ],
   "source": [
    "\"\"\"# Function to evaluate the model\n",
    "def evaluate_model(actual_ratings, predicted_ratings):\n",
    "    # Convert predicted ratings to integer values for comparison\n",
    "    predicted_ratings = np.round(predicted_ratings).astype(int)\n",
    "    \n",
    "    # Calculate precision and recall for top recommendations\n",
    "    precision = precision_score(actual_ratings, predicted_ratings, average='micro')\n",
    "    recall = recall_score(actual_ratings, predicted_ratings, average='micro')\n",
    "    \n",
    "    # Calculate Mean Absolute Error (MAE) for rating predictions\n",
    "    mae = mean_absolute_error(actual_ratings, predicted_ratings)\n",
    "    \n",
    "    return precision, recall, mae\"\"\"\n"
   ]
  },
  {
   "cell_type": "code",
   "execution_count": 33,
   "metadata": {},
   "outputs": [
    {
     "data": {
      "text/plain": [
       "'# Example usage:\\n# Assuming you have actual ratings and predicted ratings from your model\\nactual_ratings = menu_data[\\'original_rating\\'].values  # Actual ratings from your dataset\\npredicted_ratings = np.ones(len(actual_ratings)) * 5  # Example: Predicting all items with rating 5\\n\\nprecision, recall, mae = evaluate_model(actual_ratings, predicted_ratings)\\n\\nprint(f\"Precision: {precision:.4f}\")\\nprint(f\"Recall: {recall:.4f}\")\\nprint(f\"Mean Absolute Error (MAE): {mae:.4f}\")'"
      ]
     },
     "execution_count": 33,
     "metadata": {},
     "output_type": "execute_result"
    }
   ],
   "source": [
    "\"\"\"# Example usage:\n",
    "# Assuming you have actual ratings and predicted ratings from your model\n",
    "actual_ratings = menu_data['original_rating'].values  # Actual ratings from your dataset\n",
    "predicted_ratings = np.ones(len(actual_ratings)) * 5  # Example: Predicting all items with rating 5\n",
    "\n",
    "precision, recall, mae = evaluate_model(actual_ratings, predicted_ratings)\n",
    "\n",
    "print(f\"Precision: {precision:.4f}\")\n",
    "print(f\"Recall: {recall:.4f}\")\n",
    "print(f\"Mean Absolute Error (MAE): {mae:.4f}\")\"\"\""
   ]
  }
 ],
 "metadata": {
  "kernelspec": {
   "display_name": "Python 3",
   "language": "python",
   "name": "python3"
  },
  "language_info": {
   "codemirror_mode": {
    "name": "ipython",
    "version": 3
   },
   "file_extension": ".py",
   "mimetype": "text/x-python",
   "name": "python",
   "nbconvert_exporter": "python",
   "pygments_lexer": "ipython3",
   "version": "3.11.7"
  }
 },
 "nbformat": 4,
 "nbformat_minor": 2
}
